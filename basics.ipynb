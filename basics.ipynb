{
 "metadata": {
  "language_info": {
   "codemirror_mode": {
    "name": "ipython",
    "version": 3
   },
   "file_extension": ".py",
   "mimetype": "text/x-python",
   "name": "python",
   "nbconvert_exporter": "python",
   "pygments_lexer": "ipython3",
   "version": "3.7.4"
  },
  "orig_nbformat": 2,
  "kernelspec": {
   "name": "python374jvsc74a57bd0c3cd497d128db5051ffe775c6711d9938ad6bf3bc365cc3a12731ecface7a545",
   "display_name": "Python 3.7.4 32-bit"
  }
 },
 "nbformat": 4,
 "nbformat_minor": 2,
 "cells": [
  {
   "source": [
    "# OpenCV - Basics\n",
    "OpenCV is a library of programming functions mainly aimed at real-time computer vision.\n",
    "\n",
    "Computer vision? Application of deep learning on driving insights from media files, eg. images and videos."
   ],
   "cell_type": "markdown",
   "metadata": {}
  },
  {
   "source": [
    "## Imports"
   ],
   "cell_type": "markdown",
   "metadata": {}
  },
  {
   "cell_type": "code",
   "execution_count": 1,
   "metadata": {},
   "outputs": [],
   "source": [
    "import cv2 as cv\n",
    "import os\n",
    "import numpy as np"
   ]
  },
  {
   "source": [
    "## Reading Images and Video\n",
    "\n",
    "### Reading Images\n",
    "\n",
    "imread()\n",
    "- Takes in a path to an image and returns a matrix of pixels.\n",
    "\n",
    "imshow()\n",
    "- Displays the image in a new window.\n",
    "- Takes in the new of the created window and the matrix of pixels to display (generated using imread())\n",
    "\n",
    "waitKey()\n",
    "- Keyboard binding function that waits for a delay for a key to be pressed.\n",
    "- Passing in 0 means it'll wait for an infinite amount of time for a key to be pressed.\n",
    "\n",
    "### Reading Video\n",
    "\n",
    "VideoCapture()\n",
    "- Passing in an integer to this function would make use of our webcam (commonly 0 is used)\n",
    "- Passing in a path to the function reads a readily available video.\n",
    "- For reading videos, we would use a while loop that reads the video frame by frame.\n",
    "- Use the same method of displaying images to show this frame and assign a key to break out of the while loop.\n",
    "- In the end, release the video capture and destroy all windows. "
   ],
   "cell_type": "markdown",
   "metadata": {}
  },
  {
   "cell_type": "code",
   "execution_count": 2,
   "metadata": {},
   "outputs": [
    {
     "output_type": "execute_result",
     "data": {
      "text/plain": [
       "-1"
      ]
     },
     "metadata": {},
     "execution_count": 2
    }
   ],
   "source": [
    "parent_dir = os.getcwd()\n",
    "photo_dir = os.path.join(parent_dir,\"sample_photos\")\n",
    "photos = os.listdir(photo_dir)\n",
    "\n",
    "# Read Images\n",
    "\n",
    "img = cv.imread(os.path.join(photo_dir,photos[0]))\n",
    "\n",
    "cv.imshow(\"Demo Pic\", img)\n",
    "cv.waitKey(0)"
   ]
  },
  {
   "cell_type": "code",
   "execution_count": 3,
   "metadata": {},
   "outputs": [],
   "source": [
    "# Read Video (Uncomment to run, commented to prevent accidental opening of webcam)\n",
    "\n",
    "# capture = cv.VideoCapture(0) # In this case, we use the webcam\n",
    "\n",
    "# while True:\n",
    "#     isTrue, frame = capture.read()\n",
    "\n",
    "#     cv.imshow(\"Video\", frame)\n",
    "\n",
    "#     if cv.waitKey(20) & 0xFF == ord('d'): # Press d key to break\n",
    "#         break\n",
    "\n",
    "# capture.release()\n",
    "# cv.destroyAllWindows()"
   ]
  },
  {
   "source": [
    "## Resizing and Rescaling\n",
    "\n",
    "It is good practice to resize and/or rescale images/videos to reduce processing required.\n",
    "\n",
    "shape\n",
    "- Returns a tuple of the number of rows, columns and channels. (height can be seen as shape\\[0] while width can be seen as shape\\[1])\n",
    "\n",
    "resize()\n",
    "- Takes in the image and the dimensions (in the form of a width,height tuple) that we want to resize the image to.\n",
    "- The dimensions can be a scale of the original or specific dimensions that do not need to match the original aspect ratio.\n",
    "\n",
    "interpolation in the resize() Function:\n",
    "\n",
    "Based on preference but usually,\n",
    "- INTER_AREA -> Suitable for shrinking an image.\n",
    "- INTER_LINEAR/INTER_CUBIC -> Suitable for enlarging an image.\n"
   ],
   "cell_type": "markdown",
   "metadata": {}
  },
  {
   "cell_type": "code",
   "execution_count": 4,
   "metadata": {},
   "outputs": [
    {
     "output_type": "execute_result",
     "data": {
      "text/plain": [
       "-1"
      ]
     },
     "metadata": {},
     "execution_count": 4
    }
   ],
   "source": [
    "def rescaleFrame(frame):\n",
    "    scale_value = 0.75\n",
    "\n",
    "    width = int(frame.shape[1] * scale_value)\n",
    "    height = int(frame.shape[0] * scale_value)\n",
    "\n",
    "    dimensions = (width,height)\n",
    "\n",
    "    return cv.resize(frame,dimensions,interpolation=cv.INTER_AREA)\n",
    "\n",
    "img = cv.imread(os.path.join(photo_dir,photos[0]))\n",
    "\n",
    "rescaled_img = rescaleFrame(img)\n",
    "\n",
    "cv.imshow(\"Rescaled Image\", rescaled_img)\n",
    "cv.waitKey(0)\n",
    "\n",
    "# Note that this function can also work with videos by passing the frames one by one in the while loop.\n"
   ]
  },
  {
   "source": [
    "## Drawing Images and Text on Images\n",
    "We can either draw on imported images or create a blank image using numpy (create a zero matrix)\n",
    "\n",
    "### Blank Images\n",
    "\n",
    "Creating a blank image\n",
    "- Use the np.zeros() function to create a zero matrix.\n",
    "- Display this matrix.\n",
    "\n",
    "Changing the colour of the blank image\n",
    "- Assign all the pixels a certain colour (eg. 0,255,0 for all green.\n",
    "- This can also be done for specific areas of the image by passing in the indexes\n",
    "\n",
    "### Drawing Rectangles\n",
    "\n",
    "rectangle()\n",
    "- Takes in the image and the points of where we want to draw the rectangle, the color and thickness.\n",
    "- To get a filled rectangle, use thickness=cv.FILLED\n",
    "\n",
    "### Drawing Circles\n",
    "circle()\n",
    "- Takes in the image, the center of the circle, radius (in pixels), colour and thickness.\n",
    "\n",
    "### Drawing Lines\n",
    "line()\n",
    "- Takes in the image, the points of where we want to draw the line, color and thickness.\n",
    "\n",
    "### Writing Text on an Image\n",
    "putText()\n",
    "- Takes in the image, the text, where we want the text to begin font face (there are in built ones that can be used), scale, colour, thickness.\n"
   ],
   "cell_type": "markdown",
   "metadata": {}
  },
  {
   "cell_type": "code",
   "execution_count": 5,
   "metadata": {},
   "outputs": [
    {
     "output_type": "execute_result",
     "data": {
      "text/plain": [
       "-1"
      ]
     },
     "metadata": {},
     "execution_count": 5
    }
   ],
   "source": [
    "img = cv.imread(os.path.join(photo_dir,photos[0]))\n",
    "img_center_height = img.shape[1] // 2\n",
    "img_center_width = img.shape[0] // 2\n",
    "\n",
    "cv.rectangle(img,(0,0),(200,200), (0,255,0), thickness=2)\n",
    "cv.circle(img,(img_center_height,img_center_width),40,(0,255,0),thickness=5)\n",
    "cv.line(img, (0,0),(img_center_height,img_center_width), (0,255,0), thickness=5)\n",
    "cv.putText(img, \"Elmo is Angry\", (img_center_height, img_center_width), cv.FONT_HERSHEY_TRIPLEX, 1.0, (255,255,255))\n",
    "\n",
    "cv.imshow(\"Demo Pic\", img)\n",
    "cv.waitKey(0)"
   ]
  },
  {
   "source": [
    "## Essential Functions in OpenCV\n",
    "\n",
    "### 1. Converting an image to gray scale.\n",
    "- The image we initially read is a BGR image (Blue, Green, Red)\n",
    "- We would normally want to convert this to gray scale in order to deal with the intensity distribution rather than the colour itself.\n",
    "- We convert by using **cvtColor()** that takes in the image and the colour code (COLOR_BGR2GRAY to convert BGR to gray scale.)\n",
    "\n",
    "### 2. Blurring an image\n",
    "- Commonly used to reduce the noise that exists in the image. (noises can be in the form of bad lighting etc.)\n",
    "- One of blurs that can be used in the **GaussianBlur()** function.\n",
    "\n",
    "### 3. Edge Cascade\n",
    "- Used to find the edges that are present in the image.\n",
    "- One of a popularly used function is the Canny() function.\n",
    "- Blurring the image reduces the edges that exist in the image.\n",
    "\n",
    "### 4. Dilating an Image\n",
    "- Uses a specific structuring element (in this case we use the edges found by Canny)\n",
    "- Uses the dilate() function and takes in the canny version of the image.\n",
    "- Dilation adds pixels to the boundaries of objects in an image.\n",
    "\n",
    "### 5. Eroding an Image\n",
    "- Erosion removes pixels on object boundaries.\n",
    "- Uses the erode() function.\n",
    "- We can erode a dilated image to obtain a close to original edge cascade.\n",
    "\n",
    "### 6. Cropping Images\n",
    "- By remembering that our images are an array of pixels, we can hence crop images by performing array slicing.\n",
    "\n",
    "\n",
    "\n",
    "\n",
    "\n"
   ],
   "cell_type": "markdown",
   "metadata": {}
  },
  {
   "source": [
    "gray = cv.cvtColor(img,cv.COLOR_BGR2GRAY)\n",
    "\n",
    "cv.imshow(\"Gray Scale\", gray)\n",
    "\n",
    "blur = cv.GaussianBlur(img,(3,3), cv.BORDER_DEFAULT)\n",
    "\n",
    "cv.imshow(\"Blurred Image\", blur)\n",
    "\n",
    "edges = cv.Canny(img, 125, 175)\n",
    "cv.imshow(\"Edges\", edges)\n",
    "\n",
    "dilated = cv.dilate(edges, (3,3), iterations=1)\n",
    "cv.imshow(\"Dilated\", dilated)\n",
    "\n",
    "eroded = cv.erode(dilated, (3,3), iterations=1)\n",
    "cv.imshow(\"Eroded\", eroded)\n",
    "\n",
    "cropped = img[50:200,200:400]\n",
    "cv.imshow(\"Cropped\", cropped)\n",
    "\n",
    "cv.waitKey(0)"
   ],
   "cell_type": "code",
   "metadata": {},
   "execution_count": 6,
   "outputs": [
    {
     "output_type": "execute_result",
     "data": {
      "text/plain": [
       "-1"
      ]
     },
     "metadata": {},
     "execution_count": 6
    }
   ]
  },
  {
   "source": [
    "## Image Transformations\n",
    "\n",
    "Common techniques including translation, rotation, resizing, flipping and cropping.\n",
    "\n",
    "### 1. Translation\n",
    "- Shift an image along the x and y axis. (up, down, left, right or any combination)\n",
    "- warpAffine() function which takes in the image, transformation matrix and the dimensions of the original image.\n",
    "- https://opencv-python-tutroals.readthedocs.io/en/latest/py_tutorials/py_imgproc/py_geometric_transformations/py_geometric_transformations.html\n",
    "\n",
    "### 2. Rotation\n",
    "- Rotate an image by some angle.\n",
    "- OpenCV allows rotating around any specified point (usually center)\n",
    "- Also uses the warpAffine() function which takes in the image, the rotation matrix generated by getRotationMatrix2D() and the original dimensions.\n",
    "- A positive rotation angle rotates the image counter-clockwise (hence if we want to rotate clockwise, just pass in a negative value)\n",
    "\n",
    "### 3. Flip\n",
    "- Uses the flip() function which takes in the image and the flip code.\n",
    "- Code 0 -> Flip vertically\n",
    "- Code 1 -> Flip horizontally\n",
    "- Code -1 -> Flip both horizontally and vertically"
   ],
   "cell_type": "markdown",
   "metadata": {}
  },
  {
   "cell_type": "code",
   "execution_count": 7,
   "metadata": {},
   "outputs": [
    {
     "output_type": "execute_result",
     "data": {
      "text/plain": [
       "-1"
      ]
     },
     "metadata": {},
     "execution_count": 7
    }
   ],
   "source": [
    "# +ve x = right shift\n",
    "# -ve x = left shift\n",
    "# +ve y = up shift\n",
    "# -ve y = down shift\n",
    "\n",
    "def translate(img, x, y):\n",
    "    trans_matrix = np.float32([[1,0,x],[0,1,y]])\n",
    "    dimensions = (img.shape[1],img.shape[0])\n",
    "    return cv.warpAffine(img, trans_matrix, dimensions)\n",
    "\n",
    "def rotate(img, angle, rotation_point=None):\n",
    "    (height, width) = img.shape[:2]\n",
    "\n",
    "    if rotation_point is None:\n",
    "        rotation_point = (width//2, height//2)\n",
    "    \n",
    "    rot_matrix = cv.getRotationMatrix2D(rotation_point, angle, 1.0)\n",
    "    dimensions = (width, height)\n",
    "\n",
    "    return cv.warpAffine(img, rot_matrix, dimensions)\n",
    "\n",
    "img = cv.imread(os.path.join(photo_dir,photos[0]))\n",
    "translated = translate(img,100,200)\n",
    "rotated = rotate(img, 45)\n",
    "flipped = cv.flip(img, 0)\n",
    "\n",
    "cv.imshow(\"Transformed Image\", flipped)\n",
    "cv.waitKey(0)"
   ]
  },
  {
   "source": [
    "## Contour Detection\n",
    "Contours - Boundaries of objects (line or curves that joins the continous points along the boundary of the object)\n",
    "\n",
    "From a mathematical point of view, contours and edges are two different things. Contours are useful when we get into shape analysis, object detection and recognition. (We can however still get away with thinking about them as the same)\n",
    "\n",
    "### Contour Detection with OpenCV\n",
    "\n",
    "### Method 1\n",
    "1. Convert the image to gray scale using cvtColor().\n",
    "2. Grab the edges of the image using Canny()\n",
    "3. Find contours using the findContours() method that takes in the edges (the canny image), the mode and the contours approximation method.\n",
    "    - Looks at the structuring element (edges in the image) and returns the contours and hierarchies\n",
    "    - Contours - Essentially a python list of all the coordinates of the contours found in the image.\n",
    "    - Hierarchies - Hierarchical representation of the contours. Eg. if the within the rectangle there is a circle.\n",
    "    - RETR_LIST - Essentially returns all the contours in the list (there are other modes)\n",
    "    - CHAIN_APPROX_NONE - How do we want to approximate the countours? CHAIN_APPROX_NONE does nothing and returns all of the contours (once again there are other methods such as CHAIN_APPROX_SIMPLE which compresses the contours and returns the ones that makes most sense (eg. the endpoints of a line))\n",
    "\n",
    "### Method 2\n",
    "1. Convert the image to gray scale using cvtColor().\n",
    "2. Pass the grayscale image into the threshold() function.\n",
    "    - Thresholding - looks at an image and attempts to binarise the image.\n",
    "    - The function takes in the threshold value and the maximum value. (If the intensity of a pixel is below the threshold value, it is set to black, 0. Else, it is set to white, 255)\n",
    "3. The same findCountours() function can be used with the threshold image returned.\n",
    "\n",
    "- A recommendation is to use the Canny method first."
   ],
   "cell_type": "markdown",
   "metadata": {}
  },
  {
   "cell_type": "code",
   "execution_count": 20,
   "metadata": {},
   "outputs": [
    {
     "output_type": "stream",
     "name": "stdout",
     "text": [
      "210 contour(s) found\n"
     ]
    },
    {
     "output_type": "execute_result",
     "data": {
      "text/plain": [
       "-1"
      ]
     },
     "metadata": {},
     "execution_count": 20
    }
   ],
   "source": [
    "img = cv.imread(os.path.join(photo_dir,photos[0]))\n",
    "gray = cv.cvtColor(img,cv.COLOR_BGR2GRAY)\n",
    "\n",
    "blur = cv.GaussianBlur(gray, (5,5), cv.BORDER_DEFAULT)\n",
    "\n",
    "# With Canny Edge Detection\n",
    "canny = cv.Canny(blur, 125, 175)\n",
    "cv.imshow(\"Edges\", canny)\n",
    "\n",
    "# With Threshold Function\n",
    "ret, thresh = cv.threshold(gray, 125, 255, cv.THRESH_BINARY)\n",
    "cv.imshow(\"Threshold Image\", thresh)\n",
    "\n",
    "contours, hierarchies = cv.findContours(thresh, cv.RETR_LIST, cv.CHAIN_APPROX_NONE)\n",
    "\n",
    "num_contours = len(contours)\n",
    "print(f'{num_contours} contour(s) found')\n",
    "\n",
    "cv.waitKey(0)\n",
    "\n"
   ]
  }
 ]
}