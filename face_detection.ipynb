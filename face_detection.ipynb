{
 "metadata": {
  "language_info": {
   "codemirror_mode": {
    "name": "ipython",
    "version": 3
   },
   "file_extension": ".py",
   "mimetype": "text/x-python",
   "name": "python",
   "nbconvert_exporter": "python",
   "pygments_lexer": "ipython3",
   "version": "3.7.4"
  },
  "orig_nbformat": 2,
  "kernelspec": {
   "name": "python374jvsc74a57bd0c3cd497d128db5051ffe775c6711d9938ad6bf3bc365cc3a12731ecface7a545",
   "display_name": "Python 3.7.4 32-bit"
  }
 },
 "nbformat": 4,
 "nbformat_minor": 2,
 "cells": [
  {
   "source": [
    "# Face Detection with OpenCV\n",
    "- Face detection merely detects the presence of a face in an image while face recognition detects whose face it actually is.\n",
    "- Face detection uses the concept of classifying which is an algorithm that decides whether a given image is positive or negative (whether a face is present or not)\n",
    "- Classifiers need to be trained but OpenCV comes with pretrained classifiers.\n",
    "- This example uses haarcascades.\n",
    "    - https://github.com/opencv/opencv/tree/master/data/haarcascades\n",
    "- Note that this is not the most effective method in detecting faces but works well enough for basic detection."
   ],
   "cell_type": "markdown",
   "metadata": {}
  },
  {
   "cell_type": "code",
   "execution_count": 1,
   "metadata": {},
   "outputs": [],
   "source": [
    "import cv2 as cv\n",
    "import os\n",
    "import numpy as np"
   ]
  },
  {
   "source": [
    "### Face Detection using Haarcascade\n",
    "- This example uses the haarcascade_frontalface_default classifier.\n",
    "1. Convert the image to grayscale using cvtColor()\n",
    "2. We then read in the cascade using the CascadeClassifier() method which takes in the path to the image.\n",
    "3. We can then detect faces in the image using the detectMultiScale() method which takes in:\n",
    "    - The image (grayscale)\n",
    "    - scaleFactor\n",
    "    - minNeighbors - parameter that specifies the number of neighbors the rectangle should have to be called a face.\n",
    "    - This method returns the rectangular coordinates of the faces present in the image in the form of a list. (x,y,w,h)\n",
    "    - The number of faces can hence be said to be the length of the list returned.\n",
    "4. Lastly, we can loop over the returned list and use the rectangle() method to draw the positions of the detected faces in the image.\n",
    "    - Note that the end points can be said to be x+w, y+h\n",
    "\n",
    "### Caveat\n",
    "- Haarcascade is very sensitive to noise and could sometimes either detect more faces or fewer faces than actually present in the image.\n",
    "- This is where the scaleFactor and minNeighbors parameters could be modified to fine tune the detection.\n"
   ],
   "cell_type": "markdown",
   "metadata": {}
  },
  {
   "cell_type": "code",
   "execution_count": 13,
   "metadata": {},
   "outputs": [
    {
     "output_type": "stream",
     "name": "stdout",
     "text": [
      "4 face(s) found\n"
     ]
    },
    {
     "output_type": "execute_result",
     "data": {
      "text/plain": [
       "-1"
      ]
     },
     "metadata": {},
     "execution_count": 13
    }
   ],
   "source": [
    "photo_dir = os.path.join(os.getcwd(), \"sample_photos\")\n",
    "img_path = os.path.join(photo_dir, \"face.jpg\")\n",
    "\n",
    "img = cv.imread(img_path)\n",
    "haar_cascade = cv.CascadeClassifier(os.path.join(os.getcwd(), \"haarcascade_frontalface_default.xml\"))\n",
    "\n",
    "gray = cv.cvtColor(img, cv.COLOR_BGR2GRAY)\n",
    "\n",
    "faces_rect = haar_cascade.detectMultiScale(gray, scaleFactor=1.1, minNeighbors=3)\n",
    "print(f'{len(faces_rect)} face(s) found')\n",
    "\n",
    "for x,y,w,h in faces_rect:\n",
    "    cv.rectangle(img, (x,y), (x+w, y+h), (0,255,0), 2)\n",
    "\n",
    "cv.imshow(\"Detected Face\", img)\n",
    "\n",
    "cv.waitKey(0)"
   ]
  }
 ]
}